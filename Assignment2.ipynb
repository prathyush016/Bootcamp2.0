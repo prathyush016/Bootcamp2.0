{
  "nbformat": 4,
  "nbformat_minor": 0,
  "metadata": {
    "colab": {
      "provenance": [],
      "collapsed_sections": [],
      "authorship_tag": "ABX9TyNPgii8Y3qKB/TYGLxapvFp",
      "include_colab_link": true
    },
    "kernelspec": {
      "name": "python3",
      "display_name": "Python 3"
    },
    "language_info": {
      "name": "python"
    }
  },
  "cells": [
    {
      "cell_type": "markdown",
      "metadata": {
        "id": "view-in-github",
        "colab_type": "text"
      },
      "source": [
        "<a href=\"https://colab.research.google.com/github/prathyush016/Bootcamp2.0/blob/main/Assignment2.ipynb\" target=\"_parent\"><img src=\"https://colab.research.google.com/assets/colab-badge.svg\" alt=\"Open In Colab\"/></a>"
      ]
    },
    {
      "cell_type": "markdown",
      "source": [
        "\n",
        "1. What is indentation error? Why indentation is important? Give one simple example?\n"
      ],
      "metadata": {
        "id": "ALWQHv_2oLQa"
      }
    },
    {
      "cell_type": "markdown",
      "source": [
        "Ans:\n",
        "Indentation the format of the code provided to the compiler to understand the program.\n",
        "If the code is not in correct format, spaces at the start of block of code, then we receive indentation error in Python."
      ],
      "metadata": {
        "id": "VlHSY41yoNDm"
      }
    },
    {
      "cell_type": "markdown",
      "source": [
        "2. Correct the following code and write the comment where you made the correction?\n",
        "\n",
        "  ```python\n",
        "  class_started = bool(input(\"Hey friend, is class started?: [0-False/1-True]\"))\n",
        "\n",
        "  if class_started:\n",
        "      print(\"Since class started...\")\n",
        "      print(\"Lets concentrate\")\n",
        "  else:\n",
        "      print(\"Since class is not started...\")\n",
        "      print(\"let's revise\")    \n",
        "  ```"
      ],
      "metadata": {
        "id": "xiegi30GokMo"
      }
    },
    {
      "cell_type": "code",
      "execution_count": 4,
      "metadata": {
        "colab": {
          "base_uri": "https://localhost:8080/"
        },
        "id": "mMHr18UlIBFW",
        "outputId": "5e228ae3-2bab-43e9-d77b-7ee2082a477e"
      },
      "outputs": [
        {
          "output_type": "stream",
          "name": "stdout",
          "text": [
            "Hey friend, is class started?: [0-False/1-True]False\n",
            "False\n",
            "<class 'str'>\n",
            "Since class is not started...\n",
            "let's revise\n"
          ]
        }
      ],
      "source": [
        "t= input(\"Hey friend, is class started?: [0-False/1-True]\")\n",
        "class_started=t\n",
        "print(class_started)\n",
        "print(type(class_started))\n",
        "if class_started == \"1\" or class_started == True:\n",
        "   print(\"Since class started...\")\n",
        "   print(\"Lets concentrate\")\n",
        "else:\n",
        "   print(\"Since class is not started...\")\n",
        "   print(\"let's revise\") "
      ]
    },
    {
      "cell_type": "markdown",
      "source": [
        "3. Use if else condition to verify that dataype of `input()` method in python is always string."
      ],
      "metadata": {
        "id": "NiaLRyBNo_2x"
      }
    },
    {
      "cell_type": "code",
      "source": [
        "t= input(\"ENter any value, number, alphabet or sombination of both\")\n",
        "print(f\"\"\"\n",
        "enter value is : {t}\n",
        "data type of value entered is :{type(t)}\"\"\")\n"
      ],
      "metadata": {
        "colab": {
          "base_uri": "https://localhost:8080/"
        },
        "id": "-qKqw4ypKRW-",
        "outputId": "ce6ae309-0682-4a04-9957-e5ba22d5a1d7"
      },
      "execution_count": 9,
      "outputs": [
        {
          "output_type": "stream",
          "name": "stdout",
          "text": [
            "ENter any value, number, alphabet or sombination of both1m2n14v1c4d4\n",
            "\n",
            "enter value is : 1m2n14v1c4d4\n",
            "data type of value entered is :<class 'str'>\n"
          ]
        }
      ]
    },
    {
      "cell_type": "markdown",
      "source": [
        "\n",
        "4. Take 3 variables and assign integer values to them. Find the largest variable, by only using the if and else conditions.\n"
      ],
      "metadata": {
        "id": "DbuQp7VBqSCw"
      }
    },
    {
      "cell_type": "code",
      "source": [
        "a=int(input(\"enter 1st number : \"))\n",
        "b= int(input(\"enter 2nd nummber : \"))\n",
        "c=int(input(\"enter 3rd number : \"))\n",
        "if a>b:\n",
        "  if a>c:\n",
        "    if b>c:\n",
        "      print(f\"largest number among the given numbers is : {a}\")\n",
        "      print(f\"descending order of the given numbers is : {a,b,c}\")\n",
        "    elif c>b:\n",
        "      print(f\"largest number among the given numbers is : {a}\")\n",
        "      print(f\"descending order of the given numbers is : {a,c,b}\")\n",
        "if b>a:\n",
        "  if b>c:\n",
        "    if a>c:\n",
        "     print(f\"largest number among the given numbers is : {b}\")\n",
        "     print(f\"descending order of the given numbers is : {b,a,c}\")\n",
        "    elif c>a:\n",
        "     print(f\"largest number among the given numbers is : {b}\")\n",
        "     print(f\"descending order of the given numbers is : {b,c,a}\")\n",
        "if c>a:\n",
        "  if c>b:\n",
        "    if a>b:\n",
        "     print(f\"largest number among the given numbers is : {c}\")\n",
        "     print(f\"descending order of the given numbers is : {c,a,b}\")\n",
        "    elif c>a:\n",
        "     print(f\"largest number among the given numbers is : {c}\"-2\n",
        "           )\n",
        "     print(f\"descending order of the given numbers is : {c,b,a}\")\n",
        "\n",
        "\n",
        "  "
      ],
      "metadata": {
        "colab": {
          "base_uri": "https://localhost:8080/"
        },
        "id": "8vQALeiXrBrW",
        "outputId": "f31c8df4-df29-4994-b91f-7f2d342ff35b"
      },
      "execution_count": 11,
      "outputs": [
        {
          "output_type": "stream",
          "name": "stdout",
          "text": [
            "enter 1st number : -1\n",
            "enter 2nd nummber : -2\n",
            "enter 3rd number : 0\n",
            "largest number among the given numbers is : 0\n",
            "descending order of the given numbers is : (0, -1, -2)\n"
          ]
        }
      ]
    },
    {
      "cell_type": "markdown",
      "source": [
        "5. What would be the solution?\n",
        "    1. True\n",
        "    2. False\n",
        "\n",
        "    ```python\n",
        "    a = 6\n",
        "    b = 10\n",
        "    print( not ( not a == 10 or not b == 10) )"
      ],
      "metadata": {
        "id": "T-BmQLsl2KRg"
      }
    },
    {
      "cell_type": "code",
      "source": [
        "    a = 6\n",
        "    b = 10\n",
        "    print( not ( not a == 10 or not b == 10) )"
      ],
      "metadata": {
        "colab": {
          "base_uri": "https://localhost:8080/"
        },
        "id": "qJGe8dGU2NP4",
        "outputId": "5552add1-ae01-4c83-ba1f-3a5cccce7658"
      },
      "execution_count": 12,
      "outputs": [
        {
          "output_type": "stream",
          "name": "stdout",
          "text": [
            "False\n"
          ]
        }
      ]
    },
    {
      "cell_type": "markdown",
      "source": [
        "6. Find the answer as well as find out the reason behind the result? -\n",
        "    - case 1:\n",
        "        ```python\n",
        "        A = 5.0\n",
        "        B = 10/2\n",
        "        print(A is B)\n",
        "        ```\n",
        "    - case 2:\n",
        "        ```python\n",
        "        A = 5.0\n",
        "        B = int(10/2)\n",
        "        print(A is B)\n",
        "        ```\n",
        "    - case 3:\n",
        "        ```python\n",
        "        A = 5.0\n",
        "        B = float(10/2)\n",
        "        print(A is B)"
      ],
      "metadata": {
        "id": "JI_HXeyM2s4x"
      }
    },
    {
      "cell_type": "code",
      "source": [
        "        A = 5.0\n",
        "        B = 10/2\n",
        "        print(B)\n",
        "        print(A is B)\n"
      ],
      "metadata": {
        "colab": {
          "base_uri": "https://localhost:8080/"
        },
        "id": "o69ngHdH23_z",
        "outputId": "3b6b9113-bff3-4af5-9082-d043ac87cd7b"
      },
      "execution_count": 20,
      "outputs": [
        {
          "output_type": "stream",
          "name": "stdout",
          "text": [
            "5.0\n",
            "False\n"
          ]
        }
      ]
    },
    {
      "cell_type": "code",
      "source": [
        "        A = 5.0\n",
        "        B = int(10/2)\n",
        "        print(B)\n",
        "        print(A is B)"
      ],
      "metadata": {
        "colab": {
          "base_uri": "https://localhost:8080/"
        },
        "id": "oxgUAGdD3HiR",
        "outputId": "e0435ba9-ea3d-4d56-8b5e-f21025f52360"
      },
      "execution_count": 18,
      "outputs": [
        {
          "output_type": "stream",
          "name": "stdout",
          "text": [
            "5\n",
            "False\n"
          ]
        }
      ]
    },
    {
      "cell_type": "code",
      "source": [
        "        A = 5.0\n",
        "        B = float(10/2)\n",
        "        print(B)\n",
        "        print(A is B)"
      ],
      "metadata": {
        "colab": {
          "base_uri": "https://localhost:8080/"
        },
        "id": "ieuPdk6R3Kbb",
        "outputId": "cbba1c3d-c82e-4cbe-836d-e626778f5a38"
      },
      "execution_count": 16,
      "outputs": [
        {
          "output_type": "stream",
          "name": "stdout",
          "text": [
            "5.0\n",
            "False\n"
          ]
        }
      ]
    },
    {
      "cell_type": "code",
      "source": [
        "A=10\n",
        "B=10\n",
        "print(A is B)"
      ],
      "metadata": {
        "colab": {
          "base_uri": "https://localhost:8080/"
        },
        "id": "F5As-37N4FYj",
        "outputId": "ad52867d-994b-4344-9cca-2f8f4c73b213"
      },
      "execution_count": 21,
      "outputs": [
        {
          "output_type": "stream",
          "name": "stdout",
          "text": [
            "True\n"
          ]
        }
      ]
    },
    {
      "cell_type": "markdown",
      "source": [
        "7.\n",
        "Write a program that asks the user to enter a number. You should print out a message to the user, either “That number is divisible by either 3 or 5”, or “That number is not divisible by either 3 or 5”. Be sure to consider the data type of the input you are taking in from the user. Use a single if/else block to solve this problem."
      ],
      "metadata": {
        "id": "zTJGW1Wt5r9Z"
      }
    },
    {
      "cell_type": "code",
      "source": [
        "p=input(\"enter the number : \")\n",
        "o=p.isdecimal()\n",
        "if o:\n",
        "  p=int(p)\n",
        "  if p%3==0 or p%5==0:\n",
        "   print(\"Given number is divisible either by 3 or 5 \")\n",
        "  else:\n",
        "   print(\"Given number is not divisible by 3 or 5 \")\n",
        "else:\n",
        "  print(\"enter a number of data type integer only\")"
      ],
      "metadata": {
        "colab": {
          "base_uri": "https://localhost:8080/"
        },
        "id": "DAnbm43I5ugh",
        "outputId": "cadba09d-718a-472b-baef-bfbeeb3942dc"
      },
      "execution_count": 28,
      "outputs": [
        {
          "output_type": "stream",
          "name": "stdout",
          "text": [
            "enter the number : 89\n",
            "Given number is not divisible by 3 or 5 \n"
          ]
        }
      ]
    },
    {
      "cell_type": "markdown",
      "source": [
        "8. Take user input for length and width. Then calculate the area of rectangle. Also print as per length and width whether its a square of rectangle."
      ],
      "metadata": {
        "id": "2IufbAtq70c5"
      }
    },
    {
      "cell_type": "code",
      "source": [
        "l=float(input(\"enter the length : \"))\n",
        "w=float(input(\"enter the width : \"))\n",
        "if l==5:\n",
        "  i=\"SQUARE\"\n",
        "else:\n",
        "  i=\"RECTANGLE\"\n",
        "print(f\"Area of given {i} is : {l*w}\")"
      ],
      "metadata": {
        "colab": {
          "base_uri": "https://localhost:8080/"
        },
        "id": "I9c1mo-L75tq",
        "outputId": "fbee9fe8-9087-4083-9949-49021a59d1bf"
      },
      "execution_count": 32,
      "outputs": [
        {
          "output_type": "stream",
          "name": "stdout",
          "text": [
            "enter the length : 25.4\n",
            "enter the width : 26.3\n",
            "Area of given RECTANGLE is : 668.02\n"
          ]
        }
      ]
    },
    {
      "cell_type": "markdown",
      "source": [
        "9. Take two variable radius_1 and radius_2 and calculate the area of circle_1 and circle_2. Also print which circle has large area. If area is equal then print area is equal.\n"
      ],
      "metadata": {
        "id": "1iBI5GUk9U6R"
      }
    },
    {
      "cell_type": "code",
      "source": [
        "r1=float(input(\"enter the radius of first circle:\"))\n",
        "r2=float(input(\"enter the radius of second circle:\"))\n",
        "a1=22.7*r1*r1\n",
        "a2=22.7*r2*r2\n",
        "if r1==r2:\n",
        "  print(f\"Area of both the circles are EQUAL and the area is : {a1}\")\n",
        "else:\n",
        "  print(f\"\"\"Area of first circlel is : {a1}\n",
        "  Area of second circel is : {a2}\"\"\")"
      ],
      "metadata": {
        "colab": {
          "base_uri": "https://localhost:8080/"
        },
        "id": "TSl89tfV9aP4",
        "outputId": "2c614fe0-41e2-458f-cbaa-fde17c4f40e7"
      },
      "execution_count": 34,
      "outputs": [
        {
          "output_type": "stream",
          "name": "stdout",
          "text": [
            "enter the radius of first circle:12\n",
            "enter the radius of second circle:11\n",
            "Area of first circlel is : 3268.7999999999997\n",
            "  Area of second circel is : 2746.7\n"
          ]
        }
      ]
    },
    {
      "cell_type": "markdown",
      "source": [
        "10. Check whether a year is leap year or not. Use nested if...else to solve this problem. A leap year is exactly divisible by 4 except for century years (years ending with 00). The century year is a leap year only if it is perfectly divisible by 400."
      ],
      "metadata": {
        "id": "eTTVWyk3-mYh"
      }
    },
    {
      "cell_type": "code",
      "source": [
        "y=input(\"enter the year(YYYY) : \")\n",
        "Y=int(y)\n",
        "if y[2:4]==\"00\":\n",
        "  if Y%400==0:\n",
        "    print(f\"{y} is a leap year\")\n",
        "  else:\n",
        "    print(f\"{y} is not a leap year\")\n",
        "elif Y%4== 0:\n",
        "  print(f\"{y} is a leap year\")\n",
        "else:\n",
        "  print(f\"{y} is not a leap year\")"
      ],
      "metadata": {
        "colab": {
          "base_uri": "https://localhost:8080/"
        },
        "id": "G67dHtuX-nUR",
        "outputId": "8e8b1326-2cfb-4971-82f7-c6e77fe35f17"
      },
      "execution_count": 46,
      "outputs": [
        {
          "output_type": "stream",
          "name": "stdout",
          "text": [
            "enter the year(YYYY) : 9000\n",
            "9000 is not a leap year\n"
          ]
        }
      ]
    }
  ]
}