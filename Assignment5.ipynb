{
  "nbformat": 4,
  "nbformat_minor": 0,
  "metadata": {
    "colab": {
      "provenance": [],
      "collapsed_sections": [],
      "authorship_tag": "ABX9TyPm1xjQEEyZVybm2OhxD3nM",
      "include_colab_link": true
    },
    "kernelspec": {
      "name": "python3",
      "display_name": "Python 3"
    },
    "language_info": {
      "name": "python"
    }
  },
  "cells": [
    {
      "cell_type": "markdown",
      "metadata": {
        "id": "view-in-github",
        "colab_type": "text"
      },
      "source": [
        "<a href=\"https://colab.research.google.com/github/prathyush016/Bootcamp2.0/blob/main/Assignment5.ipynb\" target=\"_parent\"><img src=\"https://colab.research.google.com/assets/colab-badge.svg\" alt=\"Open In Colab\"/></a>"
      ]
    },
    {
      "cell_type": "markdown",
      "source": [
        "1. On amazon website we have the following available items -\n",
        "amazon_website = [(\"watch\", 5000), (\"phone\", 10000), (\"laptop\", 50000), (\"shirt\", 1000)]\n",
        "Take the user input N no. of times and find out the total cost to be paid?OR\n",
        "You can ask the user quntity or the count of item?\n",
        "if the item is not present in the amazon website then print that item as out of stock and do add it total\n",
        "HINT: while, for loop.. indexing"
      ],
      "metadata": {
        "id": "GcknYsrTcghw"
      }
    },
    {
      "cell_type": "markdown",
      "source": [
        "Solution:\n",
        "Below program does the following\n",
        "1. User can select how many items he needs to purchase\n",
        "2. user can select a product from the list\n",
        "3. if product is not present in the list, then a message will be displayed\n",
        "4. if product is present in the list then user can select number of quantity to purchase\n",
        "5. total cost will be calculated and displayed as billed amount"
      ],
      "metadata": {
        "id": "EhSQY-80_k0m"
      }
    },
    {
      "cell_type": "code",
      "execution_count": 71,
      "metadata": {
        "colab": {
          "base_uri": "https://localhost:8080/"
        },
        "id": "boJfKZyiZsvS",
        "outputId": "1370c65e-b9d5-4e87-9b3d-269deb7c2b7d"
      },
      "outputs": [
        {
          "output_type": "stream",
          "name": "stdout",
          "text": [
            "How many items do you want to shop from Amazon (slect a integer value >0) : \n",
            "None3\n",
            "select a product from the list[('watch', 5000), ('phone', 10000), ('laptop', 50000), ('shirt', 1000)]\n",
            "Nonephone\n",
            "\n",
            "select the quantity of the item to purchase (slect a integer value >0): \n",
            "None6\n",
            "Product selected: phone :::: Price per piece : 10000 ::::: Quantity selected :6 :::: Total price : 60000\n",
            "\n",
            "\n",
            "product is available\n",
            "select a product from the list[('watch', 5000), ('phone', 10000), ('laptop', 50000), ('shirt', 1000)]\n",
            "Nonelkjh\n",
            "\n",
            "\n",
            "\n",
            "\n",
            "Selected product is not in the list\n",
            "select a product from the list[('watch', 5000), ('phone', 10000), ('laptop', 50000), ('shirt', 1000)]\n",
            "Noneshirt\n",
            "\n",
            "\n",
            "\n",
            "select the quantity of the item to purchase (slect a integer value >0): \n",
            "None500\n",
            "Product selected: shirt :::: Price per piece : 1000 ::::: Quantity selected :500 :::: Total price : 500000\n",
            "product is available\n",
            "shopping has been completed\n",
            "items selected:[('phone', 6, 60000), ('shirt', 500, 500000)]\n",
            "TOTAL BILLED AMOUNT: 560000\n"
          ]
        }
      ],
      "source": [
        "##Program to prepare my cart for checkout and payment\n",
        "##Products available in the Amazon and their respective prices [(\"watch\", 5000), (\"phone\", 10000), (\"laptop\", 50000), (\"shirt\", 1000)]\n",
        "\n",
        "A=[(\"watch\", 5000), (\"phone\", 10000), (\"laptop\", 50000), (\"shirt\", 1000)]\n",
        "T=0\n",
        "m=[]\n",
        "k=tuple()\n",
        "p=int(input(print(\"How many items do you want to shop from Amazon (slect a integer value >0) : \" )))\n",
        "for i in range(p):\n",
        "  y=0\n",
        "  z=input(print(f\"select a product from the list{A}\"))\n",
        "  for i in range(len(A)):\n",
        "    if z==(A[i][0]):\n",
        "        q=int(input(print(\"select the quantity of the item to purchase (slect a integer value >0): \")))\n",
        "        t=A[i][1]*q\n",
        "        T=T+t\n",
        "        k=(z,q,t)\n",
        "        m.append(k)\n",
        "        y=1\n",
        "        print(f\"Product selected: {z} :::: Price per piece : {A[i][1]} ::::: Quantity selected :{q} :::: Total price : {t}\")\n",
        "    else:\n",
        "       print()\n",
        "  if y==1:\n",
        "    print(\"product is available\")\n",
        "  elif y==0:\n",
        "    print(\"Selected product is not in the list\")\n",
        "print(\"shopping has been completed\")\n",
        "print(f\"items selected:{m}\")\n",
        "print(f\"TOTAL BILLED AMOUNT: {T}\")"
      ]
    },
    {
      "cell_type": "code",
      "source": [
        "T"
      ],
      "metadata": {
        "colab": {
          "base_uri": "https://localhost:8080/"
        },
        "id": "O1aeSGJNs9Dg",
        "outputId": "9d027fc1-4b7d-495d-ee56-1e5f07f34796"
      },
      "execution_count": 52,
      "outputs": [
        {
          "output_type": "execute_result",
          "data": {
            "text/plain": [
              "120000"
            ]
          },
          "metadata": {},
          "execution_count": 52
        }
      ]
    },
    {
      "cell_type": "markdown",
      "source": [],
      "metadata": {
        "id": "cZJL55m4cdhn"
      }
    }
  ]
}