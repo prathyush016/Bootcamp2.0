{
  "nbformat": 4,
  "nbformat_minor": 0,
  "metadata": {
    "colab": {
      "provenance": [],
      "authorship_tag": "ABX9TyN1+DU1GTBHuhPo0WXx3rsh",
      "include_colab_link": true
    },
    "kernelspec": {
      "name": "python3",
      "display_name": "Python 3"
    },
    "language_info": {
      "name": "python"
    }
  },
  "cells": [
    {
      "cell_type": "markdown",
      "metadata": {
        "id": "view-in-github",
        "colab_type": "text"
      },
      "source": [
        "<a href=\"https://colab.research.google.com/github/prathyush016/Bootcamp2.0/blob/main/Assignment4.ipynb\" target=\"_parent\"><img src=\"https://colab.research.google.com/assets/colab-badge.svg\" alt=\"Open In Colab\"/></a>"
      ]
    },
    {
      "cell_type": "markdown",
      "source": [
        "Q1. Find the largest number from the given list, use for loop.\n",
        "numbers = [12, 75, 150, 180, 145, 525, 50]"
      ],
      "metadata": {
        "id": "7hmI7jAZXHmZ"
      }
    },
    {
      "cell_type": "code",
      "execution_count": 23,
      "metadata": {
        "colab": {
          "base_uri": "https://localhost:8080/"
        },
        "id": "jdDCOhQiXAmj",
        "outputId": "c4033d36-07a9-49df-e70e-59ef0cb0e2bc"
      },
      "outputs": [
        {
          "output_type": "stream",
          "name": "stdout",
          "text": [
            "12508.5\n"
          ]
        }
      ],
      "source": [
        "numbers = [12, 75, 150, 180, 145, 525, 50,890,-910,1,12508,12508.5]\n",
        "B=sorted(numbers)\n",
        "p=0\n",
        "b=numbers[0]\n",
        "for i in range(len(numbers)-1):\n",
        "    if numbers[i]>=numbers[i+1]:\n",
        "      a=numbers[i]\n",
        "    else: a=numbers[i+1]\n",
        "print(f\"{a}\")\n"
      ]
    },
    {
      "cell_type": "markdown",
      "source": [
        "Q2. Print all the even number between (1, 12)."
      ],
      "metadata": {
        "id": "6efYWBaSg4bo"
      }
    },
    {
      "cell_type": "code",
      "source": [
        "a=int(input(\"enter an integer number:\"))\n",
        "for i in range(a-2):\n",
        "  if i%2==0:\n",
        "    print(i+2, end= \" \")\n",
        "  else:\n",
        "    print()"
      ],
      "metadata": {
        "colab": {
          "base_uri": "https://localhost:8080/"
        },
        "id": "ECAB7HUqg66g",
        "outputId": "65c2060a-60c0-4567-8a9b-559acfbb39bc"
      },
      "execution_count": 30,
      "outputs": [
        {
          "output_type": "stream",
          "name": "stdout",
          "text": [
            "enter an integer number:49\n",
            "2 \n",
            "4 \n",
            "6 \n",
            "8 \n",
            "10 \n",
            "12 \n",
            "14 \n",
            "16 \n",
            "18 \n",
            "20 \n",
            "22 \n",
            "24 \n",
            "26 \n",
            "28 \n",
            "30 \n",
            "32 \n",
            "34 \n",
            "36 \n",
            "38 \n",
            "40 \n",
            "42 \n",
            "44 \n",
            "46 \n",
            "48 "
          ]
        }
      ]
    },
    {
      "cell_type": "markdown",
      "source": [
        "Q3. Calculate the sum of all numbers from 1 to a given number"
      ],
      "metadata": {
        "id": "7aS9_Ag3inqY"
      }
    },
    {
      "cell_type": "code",
      "source": [
        "a=int(input(\"enter an integer number:\"))\n",
        "p=0\n",
        "for i in range(a+1):\n",
        "  p=p+i\n",
        "print(p)"
      ],
      "metadata": {
        "colab": {
          "base_uri": "https://localhost:8080/"
        },
        "id": "K5Kn4XofivmY",
        "outputId": "792331b0-0073-45d0-869c-be357a7a90d3"
      },
      "execution_count": 34,
      "outputs": [
        {
          "output_type": "stream",
          "name": "stdout",
          "text": [
            "enter an integer number:100\n",
            "5050\n"
          ]
        }
      ]
    },
    {
      "cell_type": "markdown",
      "source": [
        "Q4. Write a program to display only those numbers from a list that satisfy the following conditions\n",
        "The number must be divisible by five\n",
        "If the number is greater than 150, then skip it and move to the next number\n",
        "If the number is greater than 500, then stop the loop\n",
        " Given:\n",
        "numbers = [12, 75, 150, 180, 145, 525, 50]"
      ],
      "metadata": {
        "id": "yCsejf48jw1S"
      }
    },
    {
      "cell_type": "code",
      "source": [
        "numbers = [12, 75, 150, 180, 145, 80, 525, 50]\n",
        "for i in range(len(numbers)):\n",
        "  if  numbers[i]<500:\n",
        "    if numbers[i]%5==0:\n",
        "      if numbers[i]<150:\n",
        "        print(numbers[i], end = \" \")\n",
        "      else: print()\n",
        "    else: print()\n",
        "  else: break\n"
      ],
      "metadata": {
        "colab": {
          "base_uri": "https://localhost:8080/"
        },
        "id": "zEXno-dTj4vS",
        "outputId": "7bcd2f1d-4c06-4b69-8800-74202f472d5f"
      },
      "execution_count": 66,
      "outputs": [
        {
          "output_type": "stream",
          "name": "stdout",
          "text": [
            "\n",
            "75 \n",
            "\n",
            "145 80 "
          ]
        }
      ]
    },
    {
      "cell_type": "markdown",
      "source": [
        "Q5. Print the given list in reverse order.\n",
        "\n",
        "list1 = [10, 20, 30, 40, 50]"
      ],
      "metadata": {
        "id": "a1nM9yqdoBKd"
      }
    },
    {
      "cell_type": "code",
      "source": [
        "list1 = [10, 20, 30, 40, 50]\n",
        "print(list1[::-1])"
      ],
      "metadata": {
        "colab": {
          "base_uri": "https://localhost:8080/"
        },
        "id": "ZjcSiIeYoDxB",
        "outputId": "b2639f13-7875-4176-a5ad-6e29f8aa3e91"
      },
      "execution_count": 68,
      "outputs": [
        {
          "output_type": "stream",
          "name": "stdout",
          "text": [
            "[50, 40, 30, 20, 10]\n"
          ]
        }
      ]
    }
  ]
}