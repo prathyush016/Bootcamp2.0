{
  "nbformat": 4,
  "nbformat_minor": 0,
  "metadata": {
    "colab": {
      "provenance": [],
      "authorship_tag": "ABX9TyNQ6lWE/1uyczOnbrlFb8qN",
      "include_colab_link": true
    },
    "kernelspec": {
      "name": "python3",
      "display_name": "Python 3"
    },
    "language_info": {
      "name": "python"
    }
  },
  "cells": [
    {
      "cell_type": "markdown",
      "metadata": {
        "id": "view-in-github",
        "colab_type": "text"
      },
      "source": [
        "<a href=\"https://colab.research.google.com/github/prathyush016/Bootcamp2.0/blob/main/Assignment3.ipynb\" target=\"_parent\"><img src=\"https://colab.research.google.com/assets/colab-badge.svg\" alt=\"Open In Colab\"/></a>"
      ]
    },
    {
      "cell_type": "markdown",
      "source": [
        "Python String Manipulation\n",
        "Count the number of times iNeuron appears in the string.\n",
        "text = \"Welcome to iNeuron, You are a part of FSDS Bootcamp 2 in iNeuron. I hope you are enjoying the course by iNeuron\""
      ],
      "metadata": {
        "id": "9fdQQUkXjGRS"
      }
    },
    {
      "cell_type": "code",
      "execution_count": 2,
      "metadata": {
        "colab": {
          "base_uri": "https://localhost:8080/"
        },
        "id": "AUY0m4OIjC0u",
        "outputId": "abf0cbe6-bd0a-4176-f0e8-b712a8830a9a"
      },
      "outputs": [
        {
          "output_type": "execute_result",
          "data": {
            "text/plain": [
              "4"
            ]
          },
          "metadata": {},
          "execution_count": 2
        }
      ],
      "source": [
        "text = \"Welcome to iNeuron, You are a part of FSDS Bootcamp 2 in iNeuron. I hope you are enjoying the course by iNeuroniNeuron\"\n",
        "\n",
        "text.count(\"iNeuron\")"
      ]
    },
    {
      "cell_type": "markdown",
      "source": [
        "\n",
        "Check if position 5 to 11 ends with the phrase iNeuron. in the string\n",
        "txt = \"Hello, welcome to FSDS 2.0 at iNeuron.\""
      ],
      "metadata": {
        "id": "AWxPpRY2tgvg"
      }
    },
    {
      "cell_type": "code",
      "source": [
        "txt = \"HelloiNeuron, welcome to FSDS 2.0 at iNeuron.\"\n",
        "subtxt=txt[5:12]\n",
        "print(subtxt)\n",
        "print(subtxt.endswith(\"iNeuron\"))"
      ],
      "metadata": {
        "colab": {
          "base_uri": "https://localhost:8080/"
        },
        "id": "IduIKh4ztjSo",
        "outputId": "d027d435-482e-4cb3-a574-8f9b5e84d02c"
      },
      "execution_count": 6,
      "outputs": [
        {
          "output_type": "stream",
          "name": "stdout",
          "text": [
            "iNeuron\n",
            "True\n"
          ]
        }
      ]
    },
    {
      "cell_type": "markdown",
      "source": [
        "3. Write a program that takes your full name as input and displays the abbreviations of the first and middle names except the last name which is displayed as it is. For example, if your name is Sunny Bhaveen Chandra, then the output should be S.B.Chandra."
      ],
      "metadata": {
        "id": "VL2Sbd16uz2o"
      }
    },
    {
      "cell_type": "code",
      "source": [
        "a=input(\"Enter your full name in the order first, middle, last name seperated by space : \")\n",
        "first,middle,last=a.split(\" \")\n",
        "print(first)\n",
        "print(middle)\n",
        "print(last)\n",
        "print(first[0]+\".\"+middle[0]+\".\"+last)"
      ],
      "metadata": {
        "colab": {
          "base_uri": "https://localhost:8080/"
        },
        "id": "CL4nZ5lvu3kG",
        "outputId": "59b52869-d0e6-4926-eaf6-873ff96a1a44"
      },
      "execution_count": 8,
      "outputs": [
        {
          "output_type": "stream",
          "name": "stdout",
          "text": [
            "Enter your full name in the order first, middle, last name seperated by space : Ramireddy Leela Prathyush\n",
            "Ramireddy\n",
            "Leela\n",
            "Prathyush\n",
            "R.L.Prathyush\n"
          ]
        }
      ]
    },
    {
      "cell_type": "markdown",
      "source": [
        "4. Join all items in a list into a string, using a hash(`#`) character as separator:\n",
        "```python\n",
        "LIST = [\"My\", \"name\", \"is\", \"Rishav\", \"Dash\"]\n",
        "```"
      ],
      "metadata": {
        "id": "_m80AbAqv7qA"
      }
    },
    {
      "cell_type": "code",
      "source": [
        "LIST = [\"My\", \"name\", \"is\", \"Rishav\", \"Dash\"]\n",
        "string=\"\"\n",
        "for i in range(len(LIST)):\n",
        "  string=string+LIST[i]+\"#\"\n",
        "  print(string)\n",
        "str1=string[0:len(string)-1] \n",
        "print(str1)"
      ],
      "metadata": {
        "colab": {
          "base_uri": "https://localhost:8080/"
        },
        "id": "eV4pJHzgwBkv",
        "outputId": "904d72a1-7409-40cf-cc53-73cbff7223fa"
      },
      "execution_count": 19,
      "outputs": [
        {
          "output_type": "stream",
          "name": "stdout",
          "text": [
            "My#\n",
            "My#name#\n",
            "My#name#is#\n",
            "My#name#is#Rishav#\n",
            "My#name#is#Rishav#Dash#\n",
            "My#name#is#Rishav#Dash\n"
          ]
        }
      ]
    },
    {
      "cell_type": "markdown",
      "source": [
        "5. Write example for the following string manipulation function,\n",
        "\n",
        "  ```\n",
        "  - isdecimal()\n",
        "  - islower()\n",
        "  - isupper()\n",
        "  - isalpha()\n",
        "  - isnumeric()\n"
      ],
      "metadata": {
        "id": "NhOmDCP-xlwM"
      }
    },
    {
      "cell_type": "code",
      "source": [
        "from IPython.terminal.embed import KillEmbedded\n",
        "a=\"45.50\"\n",
        "b=\"prathyush\"\n",
        "c=\"REDDY\"\n",
        "d=\"AsDfGhJk\"\n",
        "k=\"9398944211\"\n",
        "\n",
        "q=k.isdecimal()\n",
        "print(q)\n",
        "r=b.islower()\n",
        "print(r)\n",
        "w=c.isupper()\n",
        "print(w)\n",
        "e=b.isalpha()\n",
        "print(e)\n",
        "t=k.isnumeric()\n",
        "print(t)"
      ],
      "metadata": {
        "colab": {
          "base_uri": "https://localhost:8080/"
        },
        "id": "B_97l_qnxoTh",
        "outputId": "e1ff9ed6-1b23-4697-ccd2-262c087cd5b6"
      },
      "execution_count": 35,
      "outputs": [
        {
          "output_type": "stream",
          "name": "stdout",
          "text": [
            "True\n",
            "True\n",
            "True\n",
            "True\n",
            "True\n"
          ]
        }
      ]
    },
    {
      "cell_type": "markdown",
      "source": [
        "6. Indian PAN card format follows the following formats - \n",
        "    - `AYEPC7894X`\n",
        "    - `ABCDE9999Y`\n",
        "  Take user input for PAN_CARD and validate as per the above example."
      ],
      "metadata": {
        "id": "gqGP75ML1D4v"
      }
    },
    {
      "cell_type": "code",
      "source": [
        "PAN=input(\"Enter your PAN CARD NUMBER : \")\n",
        "l=PAN[0:5]\n",
        "j=PAN[5:9]\n",
        "f=PAN[-1]\n",
        "print(l)\n",
        "print(j)\n",
        "print(f)\n",
        "if len(PAN)==10 and l.isupper() and l.isalpha() and j.isnumeric() and f.isupper() and f.isalpha():\n",
        "  print(f\"USER INPUT IS CORRECT : {PAN}\")\n",
        "else:\n",
        "  print(f\"USER INPUT IS NOT AS PER THE FORMAT ABCDE1234X : {PAN}\")\n"
      ],
      "metadata": {
        "colab": {
          "base_uri": "https://localhost:8080/"
        },
        "id": "6XjAcdFB1-MQ",
        "outputId": "039309e2-c013-424f-8368-3432cda567b8"
      },
      "execution_count": 41,
      "outputs": [
        {
          "output_type": "stream",
          "name": "stdout",
          "text": [
            "Enter your PAN CARD NUMBER : COBPP7284J\n",
            "COBPP\n",
            "7284\n",
            "J\n",
            "USER INPUT IS CORRECT : COBPP7284J\n"
          ]
        }
      ]
    }
  ]
}